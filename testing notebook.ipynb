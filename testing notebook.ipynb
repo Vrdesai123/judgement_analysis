{
 "cells": [
  {
   "cell_type": "code",
   "execution_count": 5,
   "metadata": {},
   "outputs": [],
   "source": [
    "from src import main"
   ]
  },
  {
   "cell_type": "code",
   "execution_count": null,
   "metadata": {},
   "outputs": [],
   "source": [
    "Game = main.Judgement(4)\n",
    "Game.deal(1)"
   ]
  }
 ],
 "metadata": {
  "kernelspec": {
   "display_name": "base_conda_env",
   "language": "python",
   "name": "python3"
  },
  "language_info": {
   "codemirror_mode": {
    "name": "ipython",
    "version": 3
   },
   "file_extension": ".py",
   "mimetype": "text/x-python",
   "name": "python",
   "nbconvert_exporter": "python",
   "pygments_lexer": "ipython3",
   "version": "3.10.9"
  },
  "orig_nbformat": 4,
  "vscode": {
   "interpreter": {
    "hash": "4f8d0770c6dba5af4a11607a32ae24df851ef89ae46b69c2170d10eafec7b1eb"
   }
  }
 },
 "nbformat": 4,
 "nbformat_minor": 2
}
